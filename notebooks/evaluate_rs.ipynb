{
 "cells": [
  {
   "cell_type": "markdown",
   "id": "4498ab49-2ee2-4780-838d-5cf82fcf85d2",
   "metadata": {},
   "source": [
    "# Evaluate RS"
   ]
  },
  {
   "cell_type": "code",
   "execution_count": 2,
   "id": "723b1b59-b741-4542-baff-c88bb665b8aa",
   "metadata": {},
   "outputs": [],
   "source": [
    "import psycopg2\n",
    "import pandas as pd\n",
    "import requests"
   ]
  },
  {
   "cell_type": "code",
   "execution_count": 3,
   "id": "3a007982-f7e6-4733-9f12-45bf7d11364b",
   "metadata": {},
   "outputs": [],
   "source": [
    "def connect_and_query(query: str, params):\n",
    "    conn = psycopg2.connect(\n",
    "        host=\"localhost\",\n",
    "        port=5432,\n",
    "        database=\"mp_dump\",\n",
    "        user=\"postgres\",\n",
    "        password=\"changeme\"\n",
    "    )\n",
    "\n",
    "    cur = conn.cursor()\n",
    "\n",
    "    cur.execute(query, params)\n",
    "    res = cur.fetchall()\n",
    "\n",
    "    cur.close()\n",
    "\n",
    "    return res"
   ]
  },
  {
   "cell_type": "code",
   "execution_count": 34,
   "id": "27b8eff1-0ad6-4621-98ee-453f17040ffc",
   "metadata": {},
   "outputs": [],
   "source": [
    "def request_recommendations(viewed_service, purchase_history, metadata_weight, view_weight):\n",
    "    data = {\n",
    "        \"service_id\": viewed_service,\n",
    "        \"purchase_ids\": purchase_history,\n",
    "        \"num\": 5,\n",
    "        \"view_weight\": view_weight,\n",
    "        \"metadata_weight\": metadata_weight \n",
    "    }\n",
    "\n",
    "    r = requests.post('http://0.0.0.0:4559/rs_evaluation/recommendation', json=data)\n",
    "    \n",
    "    return r.json()['service_ids']"
   ]
  },
  {
   "cell_type": "code",
   "execution_count": 15,
   "id": "9b0f0de9-90b8-423f-9048-f4a59a1816e8",
   "metadata": {},
   "outputs": [],
   "source": [
    "EOSC_SERVICES_URL = \"https://marketplace.eosc-portal.eu/services/\"\n",
    "\n",
    "def get_service_info(service_id):\n",
    "    query = f\"\"\"\n",
    "        SELECT id, name, slug\n",
    "        FROM services\n",
    "        WHERE id={service_id}\n",
    "    \"\"\"\n",
    "    \n",
    "    res = pd.DataFrame(connect_and_query(query, ()), columns=[\"id\", \"name\", \"slug\"])\n",
    "    res['slug'] = res['slug'].apply(lambda x: EOSC_SERVICES_URL + x)\n",
    "    \n",
    "    return res.to_dict()"
   ]
  },
  {
   "cell_type": "code",
   "execution_count": 37,
   "id": "8bc360f4-1d93-424f-8da1-0f6e95f74b23",
   "metadata": {},
   "outputs": [],
   "source": [
    "def present_recommendations(viewed_service, purchase_history, metadata_weight=0.5, view_weight=0.5):\n",
    "    viewed_df = get_service_info(viewed_service)\n",
    "    purchase_history_df = [get_service_info(service_id) for service_id in purchase_history]\n",
    "    \n",
    "    recommended_ids = request_recommendations(viewed_service, purchase_history, metadata_weight, view_weight)\n",
    "    recommended_df = [get_service_info(service_id) for service_id in recommended_ids]\n",
    "    \n",
    "    \n",
    "    print(\"#\"*180)\n",
    "    print(\"> Currently viewing:\")\n",
    "    print(f\"\\t- {viewed_df['id'][0]} | {viewed_df['name'][0]} | {viewed_df['slug'][0]}\")\n",
    "    print()\n",
    "    \n",
    "    print(\"> Purchase history:\")\n",
    "    for service in purchase_history_df:\n",
    "        print(f\"\\t- {service['id'][0]} | {service['name'][0]} | {service['slug'][0]}\")\n",
    "    print()\n",
    "    \n",
    "    print(\"> Recommendations:\")\n",
    "    for service in recommended_df:\n",
    "        print(f\"\\t- {service['id'][0]} | {service['name'][0]} | {service['slug'][0]}\")"
   ]
  },
  {
   "cell_type": "markdown",
   "id": "623b9fbe-c915-4400-aa63-b0e1d5f2b449",
   "metadata": {},
   "source": [
    "## Experiments"
   ]
  },
  {
   "cell_type": "markdown",
   "id": "d20e346a-d8a0-47f9-8f75-dfa9420e809c",
   "metadata": {},
   "source": [
    "**100 Percent IT Cloud**"
   ]
  },
  {
   "cell_type": "code",
   "execution_count": 38,
   "id": "8e04c794-d130-4a1b-b35b-3981a4fd48b7",
   "metadata": {},
   "outputs": [
    {
     "name": "stdout",
     "output_type": "stream",
     "text": [
      "####################################################################################################################################################################################\n",
      "> Currently viewing:\n",
      "\t- 76 | 100 Percent IT Trusted Cloud | https://marketplace.eosc-portal.eu/services/100-percent-it-trusted-cloud\n",
      "\n",
      "> Purchase history:\n",
      "\n",
      "> Recommendations:\n",
      "\t- 55 | ePouta Virtual Private Cloud | https://marketplace.eosc-portal.eu/services/csc-epouta\n",
      "\t- 177 | European Cloud Hosting | https://marketplace.eosc-portal.eu/services/european-cloud-hosting\n",
      "\t- 2 | EGI High-Throughput Compute | https://marketplace.eosc-portal.eu/services/egi-high-throughput-compute\n",
      "\t- 1 | EGI Cloud Compute | https://marketplace.eosc-portal.eu/services/egi-cloud-compute\n",
      "\t- 69 | Embassy Cloud | https://marketplace.eosc-portal.eu/services/embassy-cloud\n"
     ]
    }
   ],
   "source": [
    "present_recommendations(76, [], metadata_weight=0.5, view_weight=0.5)"
   ]
  },
  {
   "cell_type": "code",
   "execution_count": 23,
   "id": "16316054-0f33-40e1-a9ab-beb07d466286",
   "metadata": {},
   "outputs": [
    {
     "name": "stdout",
     "output_type": "stream",
     "text": [
      "####################################################################################################################################################################################\n",
      "> Currently viewing:\n",
      "\t- 76 | 100 Percent IT Trusted Cloud | https://marketplace.eosc-portal.eu/services/100-percent-it-trusted-cloud\n",
      "\n",
      "> Purchase history:\n",
      "\n",
      "> Recommendations:\n",
      "\t- 55 | ePouta Virtual Private Cloud | https://marketplace.eosc-portal.eu/services/csc-epouta\n",
      "\t- 2 | EGI High-Throughput Compute | https://marketplace.eosc-portal.eu/services/egi-high-throughput-compute\n",
      "\t- 111 | Rahti Container Cloud | https://marketplace.eosc-portal.eu/services/rahti-container-cloud\n",
      "\t- 45 | EGI Check-In | https://marketplace.eosc-portal.eu/services/egi-check-in\n",
      "\t- 362 | Open Knowledge Maps | https://marketplace.eosc-portal.eu/services/open-knowledge-maps\n"
     ]
    }
   ],
   "source": [
    "present_recommendations(76, [], metadata_weight=1)\n",
    "\n",
    "# We can see services that do not relate with the service we currently view EGI Check-In, Open Knowledge Maps"
   ]
  },
  {
   "cell_type": "code",
   "execution_count": 29,
   "id": "cca2d38c-e115-40db-bce4-3b7e37d74bef",
   "metadata": {},
   "outputs": [
    {
     "name": "stdout",
     "output_type": "stream",
     "text": [
      "####################################################################################################################################################################################\n",
      "> Currently viewing:\n",
      "\t- 76 | 100 Percent IT Trusted Cloud | https://marketplace.eosc-portal.eu/services/100-percent-it-trusted-cloud\n",
      "\n",
      "> Purchase history:\n",
      "\n",
      "> Recommendations:\n",
      "\t- 511 | CLOUDIFIN | https://marketplace.eosc-portal.eu/services/cloudifin\n",
      "\t- 1 | EGI Cloud Compute | https://marketplace.eosc-portal.eu/services/egi-cloud-compute\n",
      "\t- 79 | MetaCentrum Cloud | https://marketplace.eosc-portal.eu/services/metacentrum-cloud\n",
      "\t- 227 | Open Telekom Cloud | https://marketplace.eosc-portal.eu/services/open-telekom-cloud\n",
      "\t- 622 | SCIGNE Cloud Compute | https://marketplace.eosc-portal.eu/services/scigne-cloud-compute\n"
     ]
    }
   ],
   "source": [
    "present_recommendations(76, [], metadata_weight=0)\n",
    "\n",
    "# Similar to metada_weight=0.5"
   ]
  },
  {
   "cell_type": "code",
   "execution_count": 28,
   "id": "d09b10a5-78df-41e8-af04-69d00d5cd1d0",
   "metadata": {},
   "outputs": [
    {
     "name": "stdout",
     "output_type": "stream",
     "text": [
      "####################################################################################################################################################################################\n",
      "> Currently viewing:\n",
      "\t- 76 | 100 Percent IT Trusted Cloud | https://marketplace.eosc-portal.eu/services/100-percent-it-trusted-cloud\n",
      "\n",
      "> Purchase history:\n",
      "\t- 419 | DisVis web portal | https://marketplace.eosc-portal.eu/services/disvis-web-portal-6eab178c-9bc5-4c62-b7ce-aeeb18d5cba9\n",
      "\n",
      "> Recommendations:\n",
      "\t- 69 | Embassy Cloud | https://marketplace.eosc-portal.eu/services/embassy-cloud\n",
      "\t- 177 | European Cloud Hosting | https://marketplace.eosc-portal.eu/services/european-cloud-hosting\n",
      "\t- 363 | de.NBI Cloud: Cloud Computing for Life Sciences | https://marketplace.eosc-portal.eu/services/cloud-computing-for-life-sciences\n",
      "\t- 425 | PDB-Tools web | https://marketplace.eosc-portal.eu/services/pdb-tools-web\n",
      "\t- 42 | CloudFerro Infrastructure | https://marketplace.eosc-portal.eu/services/cloudferro-infrastructure\n"
     ]
    }
   ],
   "source": [
    "present_recommendations(76, [419], metadata_weight=0.5)\n",
    "\n",
    "# Interesting recommendation: de.NBI Cloud: Cloud Computing for Life Sciences which combines both viewing and history"
   ]
  },
  {
   "cell_type": "code",
   "execution_count": 33,
   "id": "4f5bfc28-52ba-484e-913d-b92ee52d43f0",
   "metadata": {},
   "outputs": [
    {
     "name": "stdout",
     "output_type": "stream",
     "text": [
      "####################################################################################################################################################################################\n",
      "> Currently viewing:\n",
      "\t- 76 | 100 Percent IT Trusted Cloud | https://marketplace.eosc-portal.eu/services/100-percent-it-trusted-cloud\n",
      "\n",
      "> Purchase history:\n",
      "\t- 419 | DisVis web portal | https://marketplace.eosc-portal.eu/services/disvis-web-portal-6eab178c-9bc5-4c62-b7ce-aeeb18d5cba9\n",
      "\n",
      "> Recommendations:\n",
      "\t- 420 | HADDOCK2.4 web portal | https://marketplace.eosc-portal.eu/services/haddock2-4-web-portal\n",
      "\t- 421 | PowerFit web portal | https://marketplace.eosc-portal.eu/services/powerfit-web-portal-b8ddee6c-78f5-43d8-a5a2-9e3b7f1cb24e\n",
      "\t- 425 | PDB-Tools web | https://marketplace.eosc-portal.eu/services/pdb-tools-web\n",
      "\t- 422 | SpotOn web portal | https://marketplace.eosc-portal.eu/services/spoton-c5db8fd5-a546-4342-8bae-2b2b4777b67e\n",
      "\t- 69 | Embassy Cloud | https://marketplace.eosc-portal.eu/services/embassy-cloud\n"
     ]
    }
   ],
   "source": [
    "present_recommendations(76, [419], metadata_weight=1)\n",
    "\n",
    "# Focuses on web portals and offers 1 cloud solution"
   ]
  },
  {
   "cell_type": "code",
   "execution_count": 43,
   "id": "4a21b7cd-c3ac-4be9-81a9-64ebba9688a7",
   "metadata": {},
   "outputs": [
    {
     "name": "stdout",
     "output_type": "stream",
     "text": [
      "####################################################################################################################################################################################\n",
      "> Currently viewing:\n",
      "\t- 76 | 100 Percent IT Trusted Cloud | https://marketplace.eosc-portal.eu/services/100-percent-it-trusted-cloud\n",
      "\n",
      "> Purchase history:\n",
      "\t- 419 | DisVis web portal | https://marketplace.eosc-portal.eu/services/disvis-web-portal-6eab178c-9bc5-4c62-b7ce-aeeb18d5cba9\n",
      "\n",
      "> Recommendations:\n",
      "\t- 177 | European Cloud Hosting | https://marketplace.eosc-portal.eu/services/european-cloud-hosting\n",
      "\t- 69 | Embassy Cloud | https://marketplace.eosc-portal.eu/services/embassy-cloud\n",
      "\t- 55 | ePouta Virtual Private Cloud | https://marketplace.eosc-portal.eu/services/csc-epouta\n",
      "\t- 2 | EGI High-Throughput Compute | https://marketplace.eosc-portal.eu/services/egi-high-throughput-compute\n",
      "\t- 1 | EGI Cloud Compute | https://marketplace.eosc-portal.eu/services/egi-cloud-compute\n"
     ]
    }
   ],
   "source": [
    "present_recommendations(76, [419], metadata_weight=0.5, view_weight=0.8)"
   ]
  },
  {
   "cell_type": "code",
   "execution_count": 48,
   "id": "37c9b1cc-3d23-49f7-b0ae-daa9cffb8cc9",
   "metadata": {},
   "outputs": [
    {
     "name": "stdout",
     "output_type": "stream",
     "text": [
      "####################################################################################################################################################################################\n",
      "> Currently viewing:\n",
      "\t- 76 | 100 Percent IT Trusted Cloud | https://marketplace.eosc-portal.eu/services/100-percent-it-trusted-cloud\n",
      "\n",
      "> Purchase history:\n",
      "\t- 419 | DisVis web portal | https://marketplace.eosc-portal.eu/services/disvis-web-portal-6eab178c-9bc5-4c62-b7ce-aeeb18d5cba9\n",
      "\t- 352 | E-Learning Platform of GBIF Spain | https://marketplace.eosc-portal.eu/services/e-learning-platform-of-gbif-spain\n",
      "\n",
      "> Recommendations:\n",
      "\t- 511 | CLOUDIFIN | https://marketplace.eosc-portal.eu/services/cloudifin\n",
      "\t- 363 | de.NBI Cloud: Cloud Computing for Life Sciences | https://marketplace.eosc-portal.eu/services/cloud-computing-for-life-sciences\n",
      "\t- 79 | MetaCentrum Cloud | https://marketplace.eosc-portal.eu/services/metacentrum-cloud\n",
      "\t- 177 | European Cloud Hosting | https://marketplace.eosc-portal.eu/services/european-cloud-hosting\n",
      "\t- 174 | Scientific Training Environment | https://marketplace.eosc-portal.eu/services/scientific-training-environment\n"
     ]
    }
   ],
   "source": [
    "present_recommendations(76, [419, 352], metadata_weight=0.5, view_weight=0.5)"
   ]
  },
  {
   "cell_type": "code",
   "execution_count": 49,
   "id": "ba30d90b-29c9-47ad-a82e-8545f93425ed",
   "metadata": {},
   "outputs": [
    {
     "name": "stdout",
     "output_type": "stream",
     "text": [
      "####################################################################################################################################################################################\n",
      "> Currently viewing:\n",
      "\t- 352 | E-Learning Platform of GBIF Spain | https://marketplace.eosc-portal.eu/services/e-learning-platform-of-gbif-spain\n",
      "\n",
      "> Purchase history:\n",
      "\t- 419 | DisVis web portal | https://marketplace.eosc-portal.eu/services/disvis-web-portal-6eab178c-9bc5-4c62-b7ce-aeeb18d5cba9\n",
      "\t- 76 | 100 Percent IT Trusted Cloud | https://marketplace.eosc-portal.eu/services/100-percent-it-trusted-cloud\n",
      "\n",
      "> Recommendations:\n",
      "\t- 363 | de.NBI Cloud: Cloud Computing for Life Sciences | https://marketplace.eosc-portal.eu/services/cloud-computing-for-life-sciences\n",
      "\t- 210 | Software Integration Support | https://marketplace.eosc-portal.eu/services/software-integration-support\n",
      "\t- 51 | PaN faas | https://marketplace.eosc-portal.eu/services/pan-faas\n",
      "\t- 511 | CLOUDIFIN | https://marketplace.eosc-portal.eu/services/cloudifin\n",
      "\t- 174 | Scientific Training Environment | https://marketplace.eosc-portal.eu/services/scientific-training-environment\n"
     ]
    }
   ],
   "source": [
    "present_recommendations(352, [419, 76], metadata_weight=0.5, view_weight=0.5)"
   ]
  },
  {
   "cell_type": "markdown",
   "id": "24b5db7d-3a71-4cc0-bb5f-42f16674479d",
   "metadata": {},
   "source": [
    "**KER - Keyword Extractor**"
   ]
  },
  {
   "cell_type": "code",
   "execution_count": 55,
   "id": "1eb16862-83d8-409d-89e2-cedee660c14e",
   "metadata": {},
   "outputs": [
    {
     "name": "stdout",
     "output_type": "stream",
     "text": [
      "####################################################################################################################################################################################\n",
      "> Currently viewing:\n",
      "\t- 496 | KER - Keyword Extractor | https://marketplace.eosc-portal.eu/services/ker-keyword-extractor\n",
      "\n",
      "> Purchase history:\n",
      "\n",
      "> Recommendations:\n",
      "\t- 493 | MorphoDiTa | https://marketplace.eosc-portal.eu/services/morphodita\n",
      "\t- 495 | Machine Translation | https://marketplace.eosc-portal.eu/services/machine-translation\n",
      "\t- 492 | ElixirFM | https://marketplace.eosc-portal.eu/services/elixirfm\n",
      "\t- 494 | NameTag | https://marketplace.eosc-portal.eu/services/nametag\n",
      "\t- 434 | UDPipe: tool for lemmatization, morphological analysis, POS tagging and dependency parsing in multiple languages | https://marketplace.eosc-portal.eu/services/udpipe-tool-for-lemmatization-morphological-analysis-pos-tagging-and-dependency-parsing-in-multiple-languages\n"
     ]
    }
   ],
   "source": [
    "present_recommendations(496, [], metadata_weight=0.5, view_weight=0.5)\n",
    "# Proposes similar solutions from the same team"
   ]
  },
  {
   "cell_type": "code",
   "execution_count": 57,
   "id": "d572393c-18c2-47c4-89de-0fb972babec2",
   "metadata": {},
   "outputs": [
    {
     "name": "stdout",
     "output_type": "stream",
     "text": [
      "####################################################################################################################################################################################\n",
      "> Currently viewing:\n",
      "\t- 496 | KER - Keyword Extractor | https://marketplace.eosc-portal.eu/services/ker-keyword-extractor\n",
      "\n",
      "> Purchase history:\n",
      "\n",
      "> Recommendations:\n",
      "\t- 626 | The Tromsø Repository of Language and Linguistics (TROLLing) | https://marketplace.eosc-portal.eu/services/the-tromso-repository-of-language-and-linguistics-trolling\n",
      "\t- 434 | UDPipe: tool for lemmatization, morphological analysis, POS tagging and dependency parsing in multiple languages | https://marketplace.eosc-portal.eu/services/udpipe-tool-for-lemmatization-morphological-analysis-pos-tagging-and-dependency-parsing-in-multiple-languages\n",
      "\t- 145 | V-SEEM CLOWDER | https://marketplace.eosc-portal.eu/services/v-seem-clowder\n",
      "\t- 424 | AMBER-based Portal Server for NMR structures (AMPS-NMR) | https://marketplace.eosc-portal.eu/services/amber-based-portal-server-for-nmr-structures-amps-nmr\n",
      "\t- 62 | Identifiers.org | https://marketplace.eosc-portal.eu/services/identifiers-org\n"
     ]
    }
   ],
   "source": [
    "present_recommendations(496, [], metadata_weight=0, view_weight=0.5)\n",
    "# While the first two are related (with the first one being from a diff organisation) the rest of them are not"
   ]
  },
  {
   "cell_type": "code",
   "execution_count": 62,
   "id": "6b6e9868-cc03-4d60-9ec5-ae33f5bd50de",
   "metadata": {},
   "outputs": [
    {
     "name": "stdout",
     "output_type": "stream",
     "text": [
      "####################################################################################################################################################################################\n",
      "> Currently viewing:\n",
      "\t- 496 | KER - Keyword Extractor | https://marketplace.eosc-portal.eu/services/ker-keyword-extractor\n",
      "\n",
      "> Purchase history:\n",
      "\t- 17 | Language Resource Switchboard | https://marketplace.eosc-portal.eu/services/language-resource-switchboard\n",
      "\n",
      "> Recommendations:\n",
      "\t- 495 | Machine Translation | https://marketplace.eosc-portal.eu/services/machine-translation\n",
      "\t- 493 | MorphoDiTa | https://marketplace.eosc-portal.eu/services/morphodita\n",
      "\t- 18 | Virtual Collection Registry | https://marketplace.eosc-portal.eu/services/virtual-collection-registry\n",
      "\t- 492 | ElixirFM | https://marketplace.eosc-portal.eu/services/elixirfm\n",
      "\t- 16 | Virtual Language Observatory | https://marketplace.eosc-portal.eu/services/virtual-language-observatory\n"
     ]
    }
   ],
   "source": [
    "present_recommendations(496, [17], metadata_weight=0.5, view_weight=0.5)\n",
    "# Virtual Language Observatory relates with the purchase history"
   ]
  }
 ],
 "metadata": {
  "kernelspec": {
   "display_name": "eosc_env",
   "language": "python",
   "name": "venv"
  },
  "language_info": {
   "codemirror_mode": {
    "name": "ipython",
    "version": 3
   },
   "file_extension": ".py",
   "mimetype": "text/x-python",
   "name": "python",
   "nbconvert_exporter": "python",
   "pygments_lexer": "ipython3",
   "version": "3.9.12"
  }
 },
 "nbformat": 4,
 "nbformat_minor": 5
}
